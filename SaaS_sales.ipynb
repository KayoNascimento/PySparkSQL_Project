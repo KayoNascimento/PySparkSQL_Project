{
  "nbformat": 4,
  "nbformat_minor": 0,
  "metadata": {
    "colab": {
      "provenance": [],
      "mount_file_id": "1g6qhn_ahj0K_jOdQwV5dnlpcB0LSN4Wg",
      "authorship_tag": "ABX9TyMhUFpbRvd4QX9JFIEl2WqW",
      "include_colab_link": true
    },
    "kernelspec": {
      "name": "python3",
      "display_name": "Python 3"
    },
    "language_info": {
      "name": "python"
    }
  },
  "cells": [
    {
      "cell_type": "markdown",
      "metadata": {
        "id": "view-in-github",
        "colab_type": "text"
      },
      "source": [
        "<a href=\"https://colab.research.google.com/github/KayoNascimento/PySparkSQL_Project/blob/main/SaaS_sales.ipynb\" target=\"_parent\"><img src=\"https://colab.research.google.com/assets/colab-badge.svg\" alt=\"Open In Colab\"/></a>"
      ]
    },
    {
      "cell_type": "markdown",
      "source": [
        "###**PySparkSQL - Manipulação e Análise Exploratória de Dados.**\n",
        "####**Sobre o Apache Spark**\n",
        "Apache Spark é uma ferramenta desenvolvida para o processamento de dados em larga escala possuindo uma arquitetura de escalabilidade horizontal, permitindo que o processamento seja executado em mais de uma máquina/nó. O Spark também processa dados diretamente na memória sem a necessidade de acesso para escrita e leitura no disco rígido.\\\n",
        "Esse framework disponibiliza APIs para trabalhar em Java, Python, Scala e R. Ele também fornece ferramentas de alto nível como SparkSQL, para dados estruturados, biblioteca MLIB para o aprendizado de máquina, integração com  API do Pandas e até streaming de dados.\n",
        "\n",
        "####**PySpark**\n",
        "Para esse projeto utilizarei o PySpark que é a API do Python para Apache Spark, que permite utilizar de todos os recursos do Spark com a linguagem Python.\\\n",
        "Como os recursos e funções do Apache Spark são bastante extensos, focarei somente na utilização do módulo **PySparkSQl e Dataframes** para manipular e analisar os dados estruturados que usarei nesse projeto.\n",
        "\n",
        "\n"
      ],
      "metadata": {
        "id": "6aaVN4a7r1h_"
      }
    },
    {
      "cell_type": "markdown",
      "source": [
        "####**Sobre o projeto**\n",
        "Nesse projeto o objetivo será explorar os recursos do módulo PySpark Dataframes e PySparkSQL, que nos permite combinar consultas SQL com as ferramentas e flexibilidade de processamento do Apache Spark junto da linguagem Python.\n",
        "\n",
        "E para aplicar algumas das muitas funcionalidades disponíveis nos módulos , usarei um conjunto de dados fictícios do Kaggle que simula as transações de uma empresa,\n",
        " chamada Saas, que fornece software de vendas e markenting para outras empresas. Ao todo o conjunto possui apenas 9.994 registros no total.\n",
        "\n",
        " **Download -** [SaaS Sales Dataset](https://www.kaggle.com/datasets/nnthanh101/aws-saas-sales/download?datasetVersionNumber=1)  "
      ],
      "metadata": {
        "id": "_8kf52Dj9CVz"
      }
    },
    {
      "cell_type": "code",
      "source": [
        "# Instalando Pyspark\n",
        "!pip install pyspark"
      ],
      "metadata": {
        "id": "ipCrGKDi77ye",
        "colab": {
          "base_uri": "https://localhost:8080/"
        },
        "outputId": "c7cc978f-d495-4fea-b5b2-97baeeafe571"
      },
      "execution_count": null,
      "outputs": [
        {
          "output_type": "stream",
          "name": "stdout",
          "text": [
            "Collecting pyspark\n",
            "  Downloading pyspark-3.4.1.tar.gz (310.8 MB)\n",
            "\u001b[2K     \u001b[90m━━━━━━━━━━━━━━━━━━━━━━━━━━━━━━━━━━━━━━━\u001b[0m \u001b[32m310.8/310.8 MB\u001b[0m \u001b[31m4.1 MB/s\u001b[0m eta \u001b[36m0:00:00\u001b[0m\n",
            "\u001b[?25h  Preparing metadata (setup.py) ... \u001b[?25l\u001b[?25hdone\n",
            "Requirement already satisfied: py4j==0.10.9.7 in /usr/local/lib/python3.10/dist-packages (from pyspark) (0.10.9.7)\n",
            "Building wheels for collected packages: pyspark\n",
            "  Building wheel for pyspark (setup.py) ... \u001b[?25l\u001b[?25hdone\n",
            "  Created wheel for pyspark: filename=pyspark-3.4.1-py2.py3-none-any.whl size=311285397 sha256=8a2e5b01a8d1584a5f29af4c0873be11452e175b78a218df5ac93d2e0a21aa05\n",
            "  Stored in directory: /root/.cache/pip/wheels/0d/77/a3/ff2f74cc9ab41f8f594dabf0579c2a7c6de920d584206e0834\n",
            "Successfully built pyspark\n",
            "Installing collected packages: pyspark\n",
            "Successfully installed pyspark-3.4.1\n"
          ]
        }
      ]
    },
    {
      "cell_type": "code",
      "source": [
        "#Importando módulos do Pyspark\n",
        "from pyspark.sql import SparkSession\n",
        "from pyspark.sql.dataframe import *\n",
        "from pyspark.sql.udf import UserDefinedFunction\n",
        "from pyspark.sql.functions import *\n",
        "from pyspark.sql.types import DateType, IntegerType, FloatType\n"
      ],
      "metadata": {
        "id": "Qvzs4FseIpJB"
      },
      "execution_count": null,
      "outputs": []
    },
    {
      "cell_type": "code",
      "source": [
        "#Criando a sessão Spark\n",
        "spark = SparkSession.builder.getOrCreate()"
      ],
      "metadata": {
        "id": "07H799dFIpEw"
      },
      "execution_count": null,
      "outputs": []
    },
    {
      "cell_type": "code",
      "source": [
        "#Lendo o arquivo CSV e atribuindo como df\n",
        "df = spark.read.csv('/content/drive/MyDrive/MyAnalysis/SaaS-Sales.csv', header=True)"
      ],
      "metadata": {
        "id": "Bbd2MPb4Iotr"
      },
      "execution_count": null,
      "outputs": []
    },
    {
      "cell_type": "code",
      "source": [
        "#Exibindo as 10 primeiras linhas\n",
        "df.show(10)"
      ],
      "metadata": {
        "colab": {
          "base_uri": "https://localhost:8080/"
        },
        "id": "BlojrvRO5AVp",
        "outputId": "0afbc554-a1be-4d35-98ff-a3ef9162f51c"
      },
      "execution_count": null,
      "outputs": [
        {
          "output_type": "stream",
          "name": "stdout",
          "text": [
            "+------+----------------+----------+--------+--------------+-------------+-------------+------+---------+-----------------+-----------+--------+---------+--------------------+----------+--------+--------+--------+--------+\n",
            "|Row ID|        Order ID|Order Date|Date Key|  Contact Name|      Country|         City|Region|Subregion|         Customer|Customer ID|Industry|  Segment|             Product|   License|   Sales|Quantity|Discount|  Profit|\n",
            "+------+----------------+----------+--------+--------------+-------------+-------------+------+---------+-----------------+-----------+--------+---------+--------------------+----------+--------+--------+--------+--------+\n",
            "|     1|EMEA-2022-152156| 11/9/2022|20221109|   Nathan Bell|      Ireland|       Dublin|  EMEA|     UKIR|          Chevron|       1017|  Energy|      SMB|     Marketing Suite|16GRM07R1K|  261.96|       2|       0| 41.9136|\n",
            "|     2|EMEA-2022-152156| 11/9/2022|20221109|   Nathan Bell|      Ireland|       Dublin|  EMEA|     UKIR|          Chevron|       1017|  Energy|      SMB|          FinanceHub|QLIW57KZUV|  731.94|       3|       0| 219.582|\n",
            "|     3|AMER-2022-138688| 6/13/2022|20220613|Deirdre Bailey|United States|New York City|  AMER|    NAMER|      Phillips 66|       1056|  Energy|Strategic|          FinanceHub|JI6BVL70HQ|   14.62|       2|       0|  6.8714|\n",
            "|     4|EMEA-2021-108966|10/11/2021|20211011|    Zoe Hodges|      Germany|    Stuttgart|  EMEA|  EU-WEST|Royal Dutch Shell|       1031|  Energy|      SMB|      ContactMatcher|DE9GJKGD44|957.5775|       5|    0.45|-383.031|\n",
            "|     5|EMEA-2021-108966|10/11/2021|20211011|    Zoe Hodges|      Germany|    Stuttgart|  EMEA|  EU-WEST|Royal Dutch Shell|       1031|  Energy|      SMB|Marketing Suite -...|OIF7NY23WD|  22.368|       2|     0.2|  2.5164|\n",
            "|     6|AMER-2020-115812|  6/9/2020|20200609| Thomas Hodges|United States|New York City|  AMER|    NAMER|      BNP Paribas|       1065| Finance|      SMB| SaaS Connector Pack|8RM88WFOAE|   48.86|       7|       0| 14.1694|\n",
            "|     7|AMER-2020-115812|  6/9/2020|20200609| Thomas Hodges|United States|New York City|  AMER|    NAMER|      BNP Paribas|       1065| Finance|      SMB|      ChatBot Plugin|4SYTVM0746|    7.28|       4|       0|  1.9656|\n",
            "|     8|AMER-2020-115812|  6/9/2020|20200609| Thomas Hodges|United States|New York City|  AMER|    NAMER|      BNP Paribas|       1065| Finance|      SMB|      Site Analytics|07842ES7DY| 907.152|       6|     0.2| 90.7152|\n",
            "|     9|AMER-2020-115812|  6/9/2020|20200609| Thomas Hodges|United States|New York City|  AMER|    NAMER|      BNP Paribas|       1065| Finance|      SMB|      ContactMatcher|XPBOBXWXA3|  18.504|       3|     0.2|  5.7825|\n",
            "|    10|AMER-2020-115812|  6/9/2020|20200609| Thomas Hodges|United States|New York City|  AMER|    NAMER|      BNP Paribas|       1065| Finance|      SMB|             OneView|71J8P9Z1P0|   114.9|       5|       0|   34.47|\n",
            "+------+----------------+----------+--------+--------------+-------------+-------------+------+---------+-----------------+-----------+--------+---------+--------------------+----------+--------+--------+--------+--------+\n",
            "only showing top 10 rows\n",
            "\n"
          ]
        }
      ]
    },
    {
      "cell_type": "markdown",
      "source": [
        "###**Tratamento/Limpeza dos dados**\n",
        "Essa etapa precede qualquer trabalho dentro da análise de dados(com exceção do carregamento), pois raramente os dados chegam em perfeito estado para utilização, e para evitar vieses na análise, a correção precisa ser aplicada para que a precisão dos dados não seja prejudicada. Dentre as correções necessárias, as principais seriam: a verificação valores faltantes/nulos, correção do tipo de dado, dados duplicados, valores inconsistentes, correções ortográficas e muitos outros. Lembrando que a aplicação de  todos esses cuidados nem sempre serão necessários, pois dependerá do objetivo de cada análise e dos dados utilizados.     "
      ],
      "metadata": {
        "id": "sSLST9zQtatw"
      }
    },
    {
      "cell_type": "markdown",
      "source": [
        "####**Correção do Tipo de dado(DataType) das colunas.**"
      ],
      "metadata": {
        "id": "-GD7k3-S3he7"
      }
    },
    {
      "cell_type": "code",
      "source": [
        "#Imprimindo o tipo de dado de cada coluna\n",
        "df.dtypes"
      ],
      "metadata": {
        "colab": {
          "base_uri": "https://localhost:8080/"
        },
        "id": "P9pg7cUz4ZnX",
        "outputId": "2e84f1af-a61c-4181-8119-032db3b43295"
      },
      "execution_count": null,
      "outputs": [
        {
          "output_type": "execute_result",
          "data": {
            "text/plain": [
              "[('Row ID', 'string'),\n",
              " ('Order ID', 'string'),\n",
              " ('Order Date', 'string'),\n",
              " ('Date Key', 'string'),\n",
              " ('Contact Name', 'string'),\n",
              " ('Country', 'string'),\n",
              " ('City', 'string'),\n",
              " ('Region', 'string'),\n",
              " ('Subregion', 'string'),\n",
              " ('Customer', 'string'),\n",
              " ('Customer ID', 'string'),\n",
              " ('Industry', 'string'),\n",
              " ('Segment', 'string'),\n",
              " ('Product', 'string'),\n",
              " ('License', 'string'),\n",
              " ('Sales', 'string'),\n",
              " ('Quantity', 'string'),\n",
              " ('Discount', 'string'),\n",
              " ('Profit', 'string')]"
            ]
          },
          "metadata": {},
          "execution_count": 6
        }
      ]
    },
    {
      "cell_type": "markdown",
      "source": [
        "Após visualizar o DataType das colunas , nota-se que algumas não condizem com seus registros, como a coluna 'Order Date' que esta com o tipo String ao invés do tipo Date.\n",
        "   "
      ],
      "metadata": {
        "id": "TTMoPDvh6R7G"
      }
    },
    {
      "cell_type": "markdown",
      "source": [
        "Correção da coluna Order Date"
      ],
      "metadata": {
        "id": "zcmjwnQOBLeV"
      }
    },
    {
      "cell_type": "code",
      "source": [
        "# extraindo o mês, dia, ano separadamente com split dentro da função lambda e armazenando na variável.\n",
        "# UserDefinedFunction é semelhante a função nativa def do Python que recebe um argumento como parâmetro.\n",
        "\n",
        "mes = UserDefinedFunction(lambda x: x.split('/')[0])# [0] [1] [2]\n",
        "dia = UserDefinedFunction(lambda x: x.split('/')[1])# mes/dia/ano\n",
        "ano = UserDefinedFunction(lambda x: x.split('/')[2])"
      ],
      "metadata": {
        "id": "2kAavmxoR2ft"
      },
      "execution_count": null,
      "outputs": []
    },
    {
      "cell_type": "code",
      "source": [
        "# Com o WithColumn cria-se uma coluna para mes, dia e ano separadamente.\n",
        "# No primeiro argumento coloca-se o nome da coluna e no segundo a função definida com o nome da coluna.\n",
        "df = df.withColumn('mes', mes('Order Date'))\n",
        "df = df.withColumn('dia', dia('Order Date'))\n",
        "df = df.withColumn('ano', ano('Order Date'))"
      ],
      "metadata": {
        "id": "i6DI2XA2UhNg"
      },
      "execution_count": null,
      "outputs": []
    },
    {
      "cell_type": "code",
      "source": [
        "# mes, dia, ano extraido e separado em cada coluna.\n",
        "df.select('Order Date', 'mes', 'dia', 'ano').show(10)"
      ],
      "metadata": {
        "colab": {
          "base_uri": "https://localhost:8080/"
        },
        "id": "8A6Qp3FuVzfr",
        "outputId": "a32d3570-5734-4add-a683-3d64e5f914f2"
      },
      "execution_count": null,
      "outputs": [
        {
          "output_type": "stream",
          "name": "stdout",
          "text": [
            "+----------+---+---+----+\n",
            "|Order Date|mes|dia| ano|\n",
            "+----------+---+---+----+\n",
            "| 11/9/2022| 11|  9|2022|\n",
            "| 11/9/2022| 11|  9|2022|\n",
            "| 6/13/2022|  6| 13|2022|\n",
            "|10/11/2021| 10| 11|2021|\n",
            "|10/11/2021| 10| 11|2021|\n",
            "|  6/9/2020|  6|  9|2020|\n",
            "|  6/9/2020|  6|  9|2020|\n",
            "|  6/9/2020|  6|  9|2020|\n",
            "|  6/9/2020|  6|  9|2020|\n",
            "|  6/9/2020|  6|  9|2020|\n",
            "+----------+---+---+----+\n",
            "only showing top 10 rows\n",
            "\n"
          ]
        }
      ]
    },
    {
      "cell_type": "code",
      "source": [
        "# Sobrepondo a coluna 'Order Date' com o formato correto em ano-mes-dia.\n",
        "df = df.withColumn('Order Date', concat_ws('-', 'ano', 'mes', 'dia'))"
      ],
      "metadata": {
        "id": "HrSQipjLTDsG"
      },
      "execution_count": null,
      "outputs": []
    },
    {
      "cell_type": "code",
      "source": [
        "#convertendo a Datatype da coluna 'Order Date' para o tipo Date.\n",
        "df = df.withColumn('Order Date', df['Order Date'].cast(DateType()))"
      ],
      "metadata": {
        "id": "VTw_pHxDWa2U"
      },
      "execution_count": null,
      "outputs": []
    },
    {
      "cell_type": "code",
      "source": [
        "#verificando o Datatype após correção.\n",
        "df.printSchema()"
      ],
      "metadata": {
        "colab": {
          "base_uri": "https://localhost:8080/"
        },
        "id": "Aqnu_JuxXV24",
        "outputId": "3091c2a1-c4fc-4641-e7c8-4547ab687b39"
      },
      "execution_count": null,
      "outputs": [
        {
          "output_type": "stream",
          "name": "stdout",
          "text": [
            "root\n",
            " |-- Row ID: string (nullable = true)\n",
            " |-- Order ID: string (nullable = true)\n",
            " |-- Order Date: date (nullable = true)\n",
            " |-- Date Key: string (nullable = true)\n",
            " |-- Contact Name: string (nullable = true)\n",
            " |-- Country: string (nullable = true)\n",
            " |-- City: string (nullable = true)\n",
            " |-- Region: string (nullable = true)\n",
            " |-- Subregion: string (nullable = true)\n",
            " |-- Customer: string (nullable = true)\n",
            " |-- Customer ID: string (nullable = true)\n",
            " |-- Industry: string (nullable = true)\n",
            " |-- Segment: string (nullable = true)\n",
            " |-- Product: string (nullable = true)\n",
            " |-- License: string (nullable = true)\n",
            " |-- Sales: string (nullable = true)\n",
            " |-- Quantity: string (nullable = true)\n",
            " |-- Discount: string (nullable = true)\n",
            " |-- Profit: string (nullable = true)\n",
            " |-- mes: string (nullable = true)\n",
            " |-- dia: string (nullable = true)\n",
            " |-- ano: string (nullable = true)\n",
            "\n"
          ]
        }
      ]
    },
    {
      "cell_type": "markdown",
      "source": [
        "correção das demais colunas"
      ],
      "metadata": {
        "id": "WYRhT84BCmGK"
      }
    },
    {
      "cell_type": "code",
      "source": [
        "df = df.withColumn('Sales', df['Sales'].cast(FloatType()))\\\n",
        "  .withColumn('Quantity', df['Quantity'].cast(IntegerType()))\\\n",
        "  .withColumn('Discount', df['Discount'].cast(FloatType()))\\\n",
        "  .withColumn('Profit', df['Profit'].cast(FloatType()))\\\n",
        "  .withColumn('Customer ID', df['Customer ID'].cast(IntegerType()))\\\n",
        "  .withColumn('Date Key', df['Date Key'].cast(IntegerType()))"
      ],
      "metadata": {
        "id": "lJYIy3hScd-T"
      },
      "execution_count": null,
      "outputs": []
    },
    {
      "cell_type": "code",
      "source": [
        "df.printSchema()"
      ],
      "metadata": {
        "id": "81DWqhywJeo9",
        "colab": {
          "base_uri": "https://localhost:8080/"
        },
        "outputId": "ae4666f8-98dc-4a35-9687-bff7f12a60fd"
      },
      "execution_count": null,
      "outputs": [
        {
          "output_type": "stream",
          "name": "stdout",
          "text": [
            "root\n",
            " |-- Row ID: string (nullable = true)\n",
            " |-- Order ID: string (nullable = true)\n",
            " |-- Order Date: date (nullable = true)\n",
            " |-- Date Key: integer (nullable = true)\n",
            " |-- Contact Name: string (nullable = true)\n",
            " |-- Country: string (nullable = true)\n",
            " |-- City: string (nullable = true)\n",
            " |-- Region: string (nullable = true)\n",
            " |-- Subregion: string (nullable = true)\n",
            " |-- Customer: string (nullable = true)\n",
            " |-- Customer ID: integer (nullable = true)\n",
            " |-- Industry: string (nullable = true)\n",
            " |-- Segment: string (nullable = true)\n",
            " |-- Product: string (nullable = true)\n",
            " |-- License: string (nullable = true)\n",
            " |-- Sales: float (nullable = true)\n",
            " |-- Quantity: integer (nullable = true)\n",
            " |-- Discount: float (nullable = true)\n",
            " |-- Profit: float (nullable = true)\n",
            " |-- mes: string (nullable = true)\n",
            " |-- dia: string (nullable = true)\n",
            " |-- ano: string (nullable = true)\n",
            "\n"
          ]
        }
      ]
    },
    {
      "cell_type": "markdown",
      "source": [
        "#### **Verificando valores duplicados**\n",
        "Para essa operação o Pyspark não dispôem de uma função específica para verificar se uma linha é duplicada ou não. Para fazer a checagem utilizei a função join, agrupando o dataframe por todas as colunas e depois a função agg para utilizar o count. Após a execução é retornado: false e true, onde false indica que a linha não é duplicada e true que a linha é duplicada.\n",
        "\n",
        "No final aparece o filter para exibir os valores correspondentes a true.  \n"
      ],
      "metadata": {
        "id": "I3YjZOs3Ncra"
      }
    },
    {
      "cell_type": "code",
      "source": [
        "df.join(\n",
        "    df.groupBy(df.columns).agg((count(\"*\")>1).alias(\"True_False\")),\n",
        "    on=df.columns,\n",
        "    how=\"inner\"\n",
        ").filter('True_False == true').show()"
      ],
      "metadata": {
        "colab": {
          "base_uri": "https://localhost:8080/"
        },
        "id": "ULV3elTTG58L",
        "outputId": "0cb53e4b-9879-4bad-d510-7f2f147c27f2"
      },
      "execution_count": null,
      "outputs": [
        {
          "output_type": "stream",
          "name": "stdout",
          "text": [
            "+------+--------+----------+--------+------------+-------+----+------+---------+--------+-----------+--------+-------+-------+-------+-----+--------+--------+------+---+---+---+----------+\n",
            "|Row ID|Order ID|Order Date|Date Key|Contact Name|Country|City|Region|Subregion|Customer|Customer ID|Industry|Segment|Product|License|Sales|Quantity|Discount|Profit|mes|dia|ano|True_False|\n",
            "+------+--------+----------+--------+------------+-------+----+------+---------+--------+-----------+--------+-------+-------+-------+-----+--------+--------+------+---+---+---+----------+\n",
            "+------+--------+----------+--------+------------+-------+----+------+---------+--------+-----------+--------+-------+-------+-------+-----+--------+--------+------+---+---+---+----------+\n",
            "\n"
          ]
        }
      ]
    },
    {
      "cell_type": "markdown",
      "source": [
        "Por fim o Dataframe não apresenta nenhum valor repetido."
      ],
      "metadata": {
        "id": "ME3TejunSMC6"
      }
    },
    {
      "cell_type": "markdown",
      "source": [
        "#### **Valores Nulos**\n",
        "No Pyspark não existe também, uma função que retorne todos os valores nulos de uma tabela. Para improvisar usa-se o laço de repetição **for** para iterar por cada uma das colunas, passando pelo filter para verificação e count no final.\n"
      ],
      "metadata": {
        "id": "j5QkqIfPTq7i"
      }
    },
    {
      "cell_type": "code",
      "source": [
        "#for column in df.columns:\n",
        "#    print(column, df.filter(df[column].isNull()).count())"
      ],
      "metadata": {
        "id": "VtoucyuYG5yK"
      },
      "execution_count": null,
      "outputs": []
    },
    {
      "cell_type": "markdown",
      "source": [
        "###**Análise Exploratória**"
      ],
      "metadata": {
        "id": "k6Y3b0Nbor5-"
      }
    },
    {
      "cell_type": "code",
      "source": [
        "#Importando biblioteca para visualização\n",
        "import seaborn as sns\n",
        "import matplotlib.pyplot as plt\n"
      ],
      "metadata": {
        "id": "AdN2HWtvJygd"
      },
      "execution_count": null,
      "outputs": []
    },
    {
      "cell_type": "markdown",
      "source": [
        "####Top 10 cidades com melhores retornos de Lucro."
      ],
      "metadata": {
        "id": "iOoyxmXDFdj6"
      }
    },
    {
      "cell_type": "code",
      "source": [
        "df.groupBy('City').agg(sum('Profit').alias('Lucro')).sort(desc('Lucro')).show(10)"
      ],
      "metadata": {
        "colab": {
          "base_uri": "https://localhost:8080/"
        },
        "id": "lIwBY4m0-op6",
        "outputId": "0fd13029-fbb4-443b-aec4-600ffbb57213"
      },
      "execution_count": null,
      "outputs": [
        {
          "output_type": "stream",
          "name": "stdout",
          "text": [
            "+-------------+------------------+\n",
            "|         City|             Lucro|\n",
            "+-------------+------------------+\n",
            "|       London| 62218.61351630092|\n",
            "|New York City| 30308.48850081116|\n",
            "|      Toronto|29176.828871920705|\n",
            "|  Los Angeles|17507.385445073247|\n",
            "|    São Paulo|13939.301159441471|\n",
            "|     Helsinki|11970.481712073088|\n",
            "|   Luxembourg| 10823.18750333786|\n",
            "|       Mumbai|10375.913979172707|\n",
            "|       Manila|  8194.08354640007|\n",
            "|       Dublin| 7522.291551589966|\n",
            "+-------------+------------------+\n",
            "only showing top 10 rows\n",
            "\n"
          ]
        }
      ]
    },
    {
      "cell_type": "markdown",
      "source": [
        "####Calculando o Ticket médio de cada cliente"
      ],
      "metadata": {
        "id": "l_6D_6_p64bT"
      }
    },
    {
      "cell_type": "code",
      "source": [
        "df.groupBy('Customer').agg(((sum('Sales')) / (count('*'))).alias(\"Ticket_médio\")).orderBy(desc(\"Ticket_médio\")).show()"
      ],
      "metadata": {
        "colab": {
          "base_uri": "https://localhost:8080/"
        },
        "id": "iVpjVdDKa7NQ",
        "outputId": "41015c70-2a1a-4934-bb10-101f8870b696"
      },
      "execution_count": null,
      "outputs": [
        {
          "output_type": "stream",
          "name": "stdout",
          "text": [
            "+--------------------+------------------+\n",
            "|            Customer|      Ticket_médio|\n",
            "+--------------------+------------------+\n",
            "|              Anthem|415.81500414414194|\n",
            "|       Valero Energy|392.57542029789516|\n",
            "|            Allstate| 380.3965708971024|\n",
            "|               Lowes| 366.9105663386258|\n",
            "|            Alphabet|366.28320189497686|\n",
            "|           Coca-Cola| 353.6271990007824|\n",
            "|                 BMW|352.10621043046314|\n",
            "|              Humana| 352.0500003542219|\n",
            "|    Costco Wholesale|351.55970753392864|\n",
            "|         Honda Motor| 332.0267855525017|\n",
            "|     Trafigura Group| 324.7293871143489|\n",
            "|        Nissan Motor|323.58315538423403|\n",
            "|              Target|321.14548860034165|\n",
            "|         Phillips 66|320.94206809165865|\n",
            "|Bank of America C...| 312.5450555357066|\n",
            "|  UnitedHealth Group| 303.4622837428389|\n",
            "|              Lukoil| 303.4412338384267|\n",
            "|         Walt Disney|  286.242764972946|\n",
            "|            Glencore|279.44909304380417|\n",
            "|           Citigroup|278.75096184557134|\n",
            "+--------------------+------------------+\n",
            "only showing top 20 rows\n",
            "\n"
          ]
        }
      ]
    },
    {
      "cell_type": "markdown",
      "source": [
        "####Média da quantidade de produtos comprada por cada cliente"
      ],
      "metadata": {
        "id": "rbrjJvCc_CiF"
      }
    },
    {
      "cell_type": "code",
      "source": [
        "df.groupBy('Customer').agg(mean('Quantity')).show()"
      ],
      "metadata": {
        "colab": {
          "base_uri": "https://localhost:8080/"
        },
        "id": "9qEea5JZ_Z4b",
        "outputId": "c2844398-468d-40a5-fd44-e924f74eef69"
      },
      "execution_count": null,
      "outputs": [
        {
          "output_type": "stream",
          "name": "stdout",
          "text": [
            "+--------------------+------------------+\n",
            "|            Customer|     avg(Quantity)|\n",
            "+--------------------+------------------+\n",
            "|       HSBC Holdings| 4.096385542168675|\n",
            "|          Volkswagen| 3.544776119402985|\n",
            "|Prudential Financial|3.5844155844155843|\n",
            "|   AmerisourceBergen| 4.040268456375839|\n",
            "|  Marathon Petroleum|3.6835443037974684|\n",
            "|             Gazprom| 3.641509433962264|\n",
            "|               Bosch|3.9831932773109244|\n",
            "|J.P. Morgan Chase...| 3.702970297029703|\n",
            "|United Parcel Ser...| 3.909090909090909|\n",
            "|             Walmart|3.6695652173913045|\n",
            "|   Royal Dutch Shell| 3.287037037037037|\n",
            "|                Sony|  3.84297520661157|\n",
            "|Mondelez Internat...| 3.629370629370629|\n",
            "|               Merck| 3.732394366197183|\n",
            "|             Allianz|3.6927083333333335|\n",
            "|              Itochu| 3.647887323943662|\n",
            "|          Fannie Mae|  4.03921568627451|\n",
            "|   Johnson & Johnson| 3.462121212121212|\n",
            "|    General Electric|3.9423076923076925|\n",
            "|              Humana|               3.6|\n",
            "+--------------------+------------------+\n",
            "only showing top 20 rows\n",
            "\n"
          ]
        }
      ]
    },
    {
      "cell_type": "markdown",
      "source": [
        "####Frequência das quantidades compradas  "
      ],
      "metadata": {
        "id": "SJEBAF-3Cb5Q"
      }
    },
    {
      "cell_type": "code",
      "source": [
        "df.groupBy('Quantity').agg((count('*')).alias('frequência')).orderBy(desc('frequência')).show()"
      ],
      "metadata": {
        "colab": {
          "base_uri": "https://localhost:8080/"
        },
        "id": "qbVMVo6rAGKw",
        "outputId": "4afcdd38-34d0-483f-8893-88c096639438"
      },
      "execution_count": null,
      "outputs": [
        {
          "output_type": "stream",
          "name": "stdout",
          "text": [
            "+--------+----------+\n",
            "|Quantity|frequência|\n",
            "+--------+----------+\n",
            "|       3|      2409|\n",
            "|       2|      2402|\n",
            "|       5|      1230|\n",
            "|       4|      1191|\n",
            "|       1|       899|\n",
            "|       7|       606|\n",
            "|       6|       572|\n",
            "|       9|       258|\n",
            "|       8|       257|\n",
            "|      10|        57|\n",
            "|      11|        34|\n",
            "|      14|        29|\n",
            "|      13|        27|\n",
            "|      12|        23|\n",
            "+--------+----------+\n",
            "\n"
          ]
        }
      ]
    },
    {
      "cell_type": "code",
      "source": [
        "#Convertendo dataframe pyspark para pandas dataframe, para geração de gráficos.\n",
        "df_pd = df.toPandas()"
      ],
      "metadata": {
        "id": "DaBW89pAMF--"
      },
      "execution_count": null,
      "outputs": []
    },
    {
      "cell_type": "code",
      "source": [
        "#Visualizando frequências com Histograma.\n",
        "sns.displot(df_pd, x='Quantity', bins=13, kde=True)"
      ],
      "metadata": {
        "colab": {
          "base_uri": "https://localhost:8080/",
          "height": 523
        },
        "id": "l_FOzqnn1ltJ",
        "outputId": "8d8c871a-fa50-4705-8e87-606a427b5da2"
      },
      "execution_count": null,
      "outputs": [
        {
          "output_type": "execute_result",
          "data": {
            "text/plain": [
              "<seaborn.axisgrid.FacetGrid at 0x781f55feccd0>"
            ]
          },
          "metadata": {},
          "execution_count": 22
        },
        {
          "output_type": "display_data",
          "data": {
            "text/plain": [
              "<Figure size 500x500 with 1 Axes>"
            ],
            "image/png": "[encoded data removed]"
          },
          "metadata": {}
        }
      ]
    },
    {
      "cell_type": "markdown",
      "source": [
        "####Frequência de cada desconto aplicado  "
      ],
      "metadata": {
        "id": "AGnLsOKzDk_n"
      }
    },
    {
      "cell_type": "code",
      "source": [
        "df.groupBy('Discount').agg((count('*')).alias('frequência')).orderBy(desc('frequência')).show()"
      ],
      "metadata": {
        "colab": {
          "base_uri": "https://localhost:8080/"
        },
        "id": "AzSWEtvNEAq-",
        "outputId": "2a49cb60-22bc-4b6c-ffd4-67bfc82b29d7"
      },
      "execution_count": null,
      "outputs": [
        {
          "output_type": "stream",
          "name": "stdout",
          "text": [
            "+--------+----------+\n",
            "|Discount|frequência|\n",
            "+--------+----------+\n",
            "|     0.0|      4798|\n",
            "|     0.2|      3657|\n",
            "|     0.7|       418|\n",
            "|     0.8|       300|\n",
            "|     0.3|       227|\n",
            "|     0.4|       206|\n",
            "|     0.6|       138|\n",
            "|     0.1|        94|\n",
            "|     0.5|        66|\n",
            "|    0.15|        52|\n",
            "|    0.32|        27|\n",
            "|    0.45|        11|\n",
            "+--------+----------+\n",
            "\n"
          ]
        }
      ]
    },
    {
      "cell_type": "code",
      "source": [
        "sns.displot(df_pd, x='Discount', bins=8, kde=True)"
      ],
      "metadata": {
        "colab": {
          "base_uri": "https://localhost:8080/",
          "height": 523
        },
        "id": "C5Tk2qbp4mNZ",
        "outputId": "bf571713-a66d-4f3f-e286-e71d9026104f"
      },
      "execution_count": null,
      "outputs": [
        {
          "output_type": "execute_result",
          "data": {
            "text/plain": [
              "<seaborn.axisgrid.FacetGrid at 0x781f94ed5ba0>"
            ]
          },
          "metadata": {},
          "execution_count": 24
        },
        {
          "output_type": "display_data",
          "data": {
            "text/plain": [
              "<Figure size 500x500 with 1 Axes>"
            ],
            "image/png": "[encoded data removed]"
          },
          "metadata": {}
        }
      ]
    },
    {
      "cell_type": "code",
      "source": [
        "df_filter = df.select('Country', 'City', 'Customer', 'Industry', 'Segment', 'Product', 'Sales', 'Quantity', 'Discount','Profit')"
      ],
      "metadata": {
        "id": "3OPcz_b7Z0Lo"
      },
      "execution_count": null,
      "outputs": []
    },
    {
      "cell_type": "code",
      "source": [
        "# Somando lucros de vendas com zero desconto\n",
        "discount_0 = df_filter.filter((df_filter['Profit'] > 0) & (df_filter['Discount'] == 0))\n",
        "discount_0.select(sum(discount_0['Profit']).alias('lucro_sem_desconto')).show()"
      ],
      "metadata": {
        "colab": {
          "base_uri": "https://localhost:8080/"
        },
        "id": "Doj4yEnfltUK",
        "outputId": "6c4f5a11-ddce-4341-fc67-ceeda0b382b2"
      },
      "execution_count": null,
      "outputs": [
        {
          "output_type": "stream",
          "name": "stdout",
          "text": [
            "+------------------+\n",
            "|lucro_sem_desconto|\n",
            "+------------------+\n",
            "| 320987.6030244753|\n",
            "+------------------+\n",
            "\n"
          ]
        }
      ]
    },
    {
      "cell_type": "code",
      "source": [
        "# Somando lucros de vendas com desconto aplicado\n",
        "discount = df_filter.filter((df_filter['Profit'] > 0) & (df_filter['Discount'] > 0))\n",
        "discount.select(sum(discount['Profit']).alias('lucro_com_desconto')).show()"
      ],
      "metadata": {
        "colab": {
          "base_uri": "https://localhost:8080/"
        },
        "id": "HV0L95DYNUaI",
        "outputId": "08ff41a7-9c44-45fc-b373-abc970f5c191"
      },
      "execution_count": null,
      "outputs": [
        {
          "output_type": "stream",
          "name": "stdout",
          "text": [
            "+------------------+\n",
            "|lucro_com_desconto|\n",
            "+------------------+\n",
            "|121540.70350269973|\n",
            "+------------------+\n",
            "\n"
          ]
        }
      ]
    },
    {
      "cell_type": "code",
      "source": [
        "#Filtrando registros com lucros negativos\n",
        "# df_filter.filter(df_filter['Profit'] <= 0).count() # output:1936\n",
        "df_filter.filter(df_filter['Profit'] <= 0).show()"
      ],
      "metadata": {
        "colab": {
          "base_uri": "https://localhost:8080/"
        },
        "id": "qFWCONeksR9M",
        "outputId": "861bf783-0f22-4639-c73b-c4ca997f388b"
      },
      "execution_count": null,
      "outputs": [
        {
          "output_type": "stream",
          "name": "stdout",
          "text": [
            "+------------+---------+--------------------+-----------------+----------+--------------------+--------+--------+--------+----------+\n",
            "|     Country|     City|            Customer|         Industry|   Segment|             Product|   Sales|Quantity|Discount|    Profit|\n",
            "+------------+---------+--------------------+-----------------+----------+--------------------+--------+--------+--------+----------+\n",
            "|     Germany|Stuttgart|   Royal Dutch Shell|           Energy|       SMB|      ContactMatcher|957.5775|       5|    0.45|  -383.031|\n",
            "|       Japan|  Saitama|              Pfizer|       Healthcare|Enterprise|             OneView|   68.81|       5|     0.8|  -123.858|\n",
            "|       Japan|  Saitama|              Pfizer|       Healthcare|Enterprise|      ContactMatcher|   2.544|       3|     0.8|    -3.816|\n",
            "|      France|    Paris|    Costco Wholesale|           Retail|       SMB|          FinanceHub|  71.372|       2|     0.3|   -1.0196|\n",
            "|      France|    Paris|               Intel|             Tech|       SMB|     Marketing Suite| 3083.43|       7|     0.5|-1665.0522|\n",
            "|      France|    Paris|               Intel|             Tech|       SMB|      ContactMatcher|   9.618|       2|     0.7|   -7.0532|\n",
            "|      France|    Paris|               Intel|             Tech|       SMB|      ContactMatcher|   6.858|       6|     0.7|    -5.715|\n",
            "|       Japan|    Aichi|    Procter & Gamble|Consumer Products| Strategic| SaaS Connector Pack|  190.92|       5|     0.6|  -147.963|\n",
            "|       Japan|    Tokyo|     Banco Santander|          Finance|Enterprise|     Marketing Suite|532.3992|       3|    0.32|  -46.9764|\n",
            "|       Japan|    Tokyo|     Banco Santander|          Finance|Enterprise|          FinanceHub| 212.058|       3|     0.3|   -15.147|\n",
            "|   Australia|   Sydney| Abbott Laboratories|       Healthcare|Enterprise|          FinanceHub| 213.115|       5|     0.3|  -15.2225|\n",
            "|South Africa|Cape Town|              Oracle|             Tech|       SMB|          FinanceHub| 831.936|       8|     0.2| -114.3912|\n",
            "|South Africa|Cape Town|              Oracle|             Tech|       SMB|Marketing Suite -...|  72.784|       1|     0.2|   -18.196|\n",
            "|       Japan|    Tokyo|        Nissan Motor|   Transportation| Strategic|      ContactMatcher|   1.248|       3|     0.8|   -1.9344|\n",
            "|       Japan|    Tokyo|        Nissan Motor|   Transportation| Strategic| SaaS Connector Pack|   9.708|       3|     0.6|   -5.8248|\n",
            "|       Japan|    Tokyo|              Oracle|             Tech|       SMB| SaaS Connector Pack|    19.3|       5|     0.6|   -14.475|\n",
            "|   Australia|   Sydney|   Royal Dutch Shell|           Energy|Enterprise|Marketing Suite -...| 230.376|       3|     0.2|  -48.9549|\n",
            "|     Belgium| Brussels|           Walgreens|           Retail|Enterprise|      ContactMatcher|   5.682|       1|     0.7|    -3.788|\n",
            "|   Australia|   Sydney|Philip Morris Int...|Consumer Products|Enterprise|        Data Smasher|  95.976|       3|     0.2|  -10.7973|\n",
            "|   Australia|   Sydney|Philip Morris Int...|Consumer Products|Enterprise|      ContactMatcher|   1.788|       3|     0.8|   -3.0396|\n",
            "+------------+---------+--------------------+-----------------+----------+--------------------+--------+--------+--------+----------+\n",
            "only showing top 20 rows\n",
            "\n"
          ]
        }
      ]
    },
    {
      "cell_type": "markdown",
      "source": [
        "###**Sumário da análise**\n",
        "\n",
        "*   A Saas obteve um lucro total de $442.527, desconsiderando os lucros negativos. Dessa soma 41% das vendas tiveram descontos aplicados.\n",
        "\n",
        "*   Ao todo 1.936 vendas não apresentaram lucros positivos.\n",
        "\n",
        "* A média da quantidade de produtos compradas por cada cliente ficou entre 3 a 4 para cada pedido.\n",
        "\n",
        "* Anthem foi o cliente que apresentou o maior Ticket Médio com $415, considerando a média de \\$231.\n",
        "\n",
        "\n",
        "\n",
        "\n",
        "\n"
      ],
      "metadata": {
        "id": "e8KnUzM6uIyu"
      }
    }
  ]
}